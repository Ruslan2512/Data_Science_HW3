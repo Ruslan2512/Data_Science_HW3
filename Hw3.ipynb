{
 "cells": [
  {
   "cell_type": "code",
   "execution_count": 48,
   "id": "5413c946",
   "metadata": {},
   "outputs": [
    {
     "name": "stdout",
     "output_type": "stream",
     "text": [
      "[ 8.33333333 13.73333333 19.13333333 24.53333333 29.93333333 35.33333333]\n"
     ]
    }
   ],
   "source": [
    "# напишіть функцію гіпотези лінійної регресії у векторному вигляді;\n",
    "import numpy as np\n",
    "from sklearn.linear_model import LinearRegression\n",
    "\n",
    "x = np.array([5, 15, 25, 35, 45, 55]).reshape((-1, 1))\n",
    "y = np.array([5, 20, 14, 32, 22, 38])\n",
    "\n",
    "model = LinearRegression().fit(x, y)\n",
    "\n",
    "print(model.predict(x))"
   ]
  },
  {
   "cell_type": "code",
   "execution_count": 49,
   "id": "fb4b08d0",
   "metadata": {},
   "outputs": [
    {
     "name": "stdout",
     "output_type": "stream",
     "text": [
      "477.1666666666667\n"
     ]
    }
   ],
   "source": [
    "# створіть функцію для обчислення функції втрат у векторному вигляді;\n",
    "def mean_squared_error(act, pred):\n",
    "    diff = pred - act\n",
    "    differences_squared = diff ** 2\n",
    "    return differences_squared.mean()\n",
    "\n",
    "print(mean_squared_error(y,x)) "
   ]
  },
  {
   "cell_type": "code",
   "execution_count": 58,
   "id": "8ae5fc9a",
   "metadata": {},
   "outputs": [
    {
     "name": "stdout",
     "output_type": "stream",
     "text": [
      "[0.38, -0.6499999999999999]\n"
     ]
    }
   ],
   "source": [
    "# реалізуйте один крок градієнтного спуску\n",
    "def gradient_descent_step(theta, learning_rate, gradient):\n",
    "    return [theta_i - learning_rate * gradient_i for theta_i, gradient_i in zip(theta, gradient)]\n",
    "\n",
    "\n",
    "initial_theta = [0.5, -0.7]\n",
    "learning_rate = 0.1\n",
    "gradient = [1.2, -0.5]\n",
    "\n",
    "new_theta = gradient_descent_step(initial_theta, learning_rate, gradient)\n",
    "print(new_theta)"
   ]
  },
  {
   "cell_type": "code",
   "execution_count": 59,
   "id": "d05bf4a6",
   "metadata": {},
   "outputs": [
    {
     "name": "stdout",
     "output_type": "stream",
     "text": [
      "Прогнозована ціна для параметрів: [[8000    4    2]] $7,108,647.86\n"
     ]
    }
   ],
   "source": [
    "# знайдіть найкращі параметри для датасету прогнозуючу ціну на будинок залежно від площі, кількості ванних кімнат та кількості спалень;\n",
    "from sklearn.model_selection import train_test_split\n",
    "from sklearn.metrics import mean_squared_error\n",
    "\n",
    "data = pd.read_csv('Housing.csv')\n",
    "features = ['area', 'bedrooms', 'bathrooms']\n",
    "price = data['price']\n",
    "\n",
    "X_train, X_test, y_train, y_test = train_test_split(X, price, test_size=0.2, random_state=42)\n",
    "\n",
    "model = LinearRegression()\n",
    "model.fit(X_train, y_train)\n",
    "y_pred = model.predict(X_test)\n",
    "\n",
    "new_features = np.array([[8000, 4, 2]])\n",
    "predicted_price = model.predict(new_features)\n",
    "print(\"Прогнозована ціна для параметрів: {} ${:,.2f}\".format(new_features, predicted_price[0]))"
   ]
  },
  {
   "cell_type": "code",
   "execution_count": 60,
   "id": "dd4d54e3",
   "metadata": {},
   "outputs": [
    {
     "name": "stdout",
     "output_type": "stream",
     "text": [
      "Коефіцієнт a1: 378.7627535851055\n",
      "Коефіцієнт a2: 406820.03376918106\n",
      "Коефіцієнт a3: 1386049.4977909976\n",
      "Коефіцієнт b: -173171.60763263126\n",
      "Прогнозована ціна для параметрів: [8000    4    2] $7,256,309.55\n"
     ]
    }
   ],
   "source": [
    "# знайдіть ці ж параметри за допомогою аналітичного рішення;\n",
    "price = data['price']\n",
    "X_1 = np.column_stack([X, np.ones(len(X))])\n",
    "\n",
    "coefficients = np.linalg.lstsq(X_1, price, rcond=None)[0]\n",
    "print(\"Коефіцієнт a1:\", coefficients[0])\n",
    "print(\"Коефіцієнт a2:\", coefficients[1])\n",
    "print(\"Коефіцієнт a3:\", coefficients[2])\n",
    "print(\"Коефіцієнт b:\", coefficients[3])\n",
    "new_features_1 = np.array([8000, 4, 2])\n",
    "predicted_price_1 = np.dot(coefficients[:-1], new_features_1) + coefficients[-1]\n",
    "print(\"Прогнозована ціна для параметрів: {} ${:,.2f}\".format(new_features_1, predicted_price_1))"
   ]
  },
  {
   "cell_type": "code",
   "execution_count": 70,
   "id": "53644140",
   "metadata": {},
   "outputs": [
    {
     "name": "stdout",
     "output_type": "stream",
     "text": [
      "Прогнозована ціна для параметрів: [[8000    4    2]] $7,108,647.86\n",
      "Прогнозована ціна для параметрів: [8000    4    2] з аналітичним рішенням  $7,256,309.55\n"
     ]
    }
   ],
   "source": [
    "# порівняйте отримані результати.\n",
    "print(\"Прогнозована ціна для параметрів: {} ${:,.2f}\".format(new_features, predicted_price[0]))\n",
    "print(\"Прогнозована ціна для параметрів: {} з аналітичним рішенням  ${:,.2f}\".format(new_features_1, predicted_price_1))"
   ]
  },
  {
   "cell_type": "code",
   "execution_count": null,
   "id": "764602e0",
   "metadata": {},
   "outputs": [],
   "source": []
  }
 ],
 "metadata": {
  "kernelspec": {
   "display_name": "Python 3 (ipykernel)",
   "language": "python",
   "name": "python3"
  },
  "language_info": {
   "codemirror_mode": {
    "name": "ipython",
    "version": 3
   },
   "file_extension": ".py",
   "mimetype": "text/x-python",
   "name": "python",
   "nbconvert_exporter": "python",
   "pygments_lexer": "ipython3",
   "version": "3.9.7"
  }
 },
 "nbformat": 4,
 "nbformat_minor": 5
}
