{
 "cells": [
  {
   "cell_type": "code",
   "execution_count": 22,
   "id": "5413c946",
   "metadata": {},
   "outputs": [],
   "source": [
    "# напишіть функцію гіпотези лінійної регресії у векторному вигляді;\n",
    "import numpy as np\n",
    "\n",
    "def h(w, X):\n",
    "    y_pred = np.dot(X, w)\n",
    "    return y_pred"
   ]
  },
  {
   "cell_type": "code",
   "execution_count": 23,
   "id": "fb4b08d0",
   "metadata": {},
   "outputs": [],
   "source": [
    "# створіть функцію для обчислення функції втрат у векторному вигляді;\n",
    "def func_loss(predictions, y):\n",
    "    squared_errors = (predictions - y) ** 2\n",
    "    return np.mean(squared_errors)"
   ]
  },
  {
   "cell_type": "code",
   "execution_count": 24,
   "id": "8ae5fc9a",
   "metadata": {},
   "outputs": [],
   "source": [
    "# реалізуйте один крок градієнтного спуску\n",
    "def gradient_descent_step(X, y, theta, learning_rate):\n",
    "    predictions = np.dot(X, theta)\n",
    "    errors = predictions - y\n",
    "    gradient = np.dot(X.T, errors) / len(y)\n",
    "    return theta - learning_rate * gradient"
   ]
  },
  {
   "cell_type": "code",
   "execution_count": 25,
   "id": "d05bf4a6",
   "metadata": {},
   "outputs": [
    {
     "name": "stdout",
     "output_type": "stream",
     "text": [
      "Прогнозована ціна для параметрів: [[8000    4    2]] $7,108,647.86\n"
     ]
    }
   ],
   "source": [
    "# знайдіть найкращі параметри для датасету прогнозуючу ціну на будинок залежно від площі, кількості ванних кімнат та кількості спалень;\n",
    "import pandas as pd\n",
    "from sklearn.model_selection import train_test_split\n",
    "from sklearn.metrics import mean_squared_error\n",
    "\n",
    "data = pd.read_csv('Housing.csv')\n",
    "features = ['area', 'bedrooms', 'bathrooms']\n",
    "price = data['price']\n",
    "X = data[features]\n",
    "\n",
    "X_train, X_test, y_train, y_test = train_test_split(X, price, test_size=0.2, random_state=42)\n",
    "\n",
    "model = LinearRegression()\n",
    "model.fit(X_train, y_train)\n",
    "y_pred = model.predict(X_test)\n",
    "\n",
    "new_features = np.array([[8000, 4, 2]])\n",
    "predicted_price = model.predict(new_features)\n",
    "print(\"Прогнозована ціна для параметрів: {} ${:,.2f}\".format(new_features, predicted_price[0]))"
   ]
  },
  {
   "cell_type": "code",
   "execution_count": 26,
   "id": "dd4d54e3",
   "metadata": {},
   "outputs": [
    {
     "name": "stdout",
     "output_type": "stream",
     "text": [
      "Прогнозована ціна для параметрів: [8000    4    2] $7,256,309.55\n"
     ]
    }
   ],
   "source": [
    "# знайдіть ці ж параметри за допомогою аналітичного рішення;\n",
    "price = data['price']\n",
    "X_1 = np.column_stack([X, np.ones(len(X))])\n",
    "\n",
    "coefficients = np.linalg.lstsq(X_1, price, rcond=None)[0]\n",
    "\n",
    "new_features_1 = np.array([8000, 4, 2])\n",
    "predicted_price_1 = np.dot(coefficients[:-1], new_features_1) + coefficients[-1]\n",
    "print(\"Прогнозована ціна для параметрів: {} ${:,.2f}\".format(new_features_1, predicted_price_1))"
   ]
  },
  {
   "cell_type": "code",
   "execution_count": 27,
   "id": "53644140",
   "metadata": {},
   "outputs": [
    {
     "name": "stdout",
     "output_type": "stream",
     "text": [
      "Прогнозована ціна для параметрів: [[8000    4    2]] $7,108,647.86\n",
      "Прогнозована ціна для параметрів: [8000    4    2] з аналітичним рішенням  $7,256,309.55\n"
     ]
    }
   ],
   "source": [
    "# порівняйте отримані результати.\n",
    "print(\"Прогнозована ціна для параметрів: {} ${:,.2f}\".format(new_features, predicted_price[0]))\n",
    "print(\"Прогнозована ціна для параметрів: {} з аналітичним рішенням  ${:,.2f}\".format(new_features_1, predicted_price_1))"
   ]
  },
  {
   "cell_type": "code",
   "execution_count": null,
   "id": "0d1be794",
   "metadata": {},
   "outputs": [],
   "source": []
  }
 ],
 "metadata": {
  "kernelspec": {
   "display_name": "Python 3 (ipykernel)",
   "language": "python",
   "name": "python3"
  },
  "language_info": {
   "codemirror_mode": {
    "name": "ipython",
    "version": 3
   },
   "file_extension": ".py",
   "mimetype": "text/x-python",
   "name": "python",
   "nbconvert_exporter": "python",
   "pygments_lexer": "ipython3",
   "version": "3.9.7"
  }
 },
 "nbformat": 4,
 "nbformat_minor": 5
}
